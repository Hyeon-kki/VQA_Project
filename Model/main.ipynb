{
 "cells": [
  {
   "cell_type": "code",
   "execution_count": 2,
   "metadata": {},
   "outputs": [
    {
     "name": "stdout",
     "output_type": "stream",
     "text": [
      "current device is cuda\n",
      "50258\n"
     ]
    }
   ],
   "source": [
    "import os\n",
    "import pandas as pd\n",
    "\n",
    "import torch\n",
    "import torch.optim as optim\n",
    "import torch.nn as nn\n",
    "from torch.utils.data import Dataset, DataLoader\n",
    "\n",
    "import torchvision.models as models # 이미지\n",
    "from torchvision import transforms # 아마지의 크기, 증강, 정규화를 진행하고 토치텐서로 출력하기 위해 사용\n",
    "from PIL import Image\n",
    "\n",
    "from transformers import GPT2Tokenizer, GPT2Model # 텍스트\n",
    "\n",
    "from tqdm.auto import tqdm\n",
    "import warnings \n",
    "warnings.filterwarnings('ignore')\n",
    "\n",
    "from Modules.train import train\n",
    "from Modules.inference import inference\n",
    "from Modules.VQADataset import VQADataset\n",
    "from Modules.VQAModel import VQAModel\n",
    "from Modules.load_data import load_data\n",
    "\n",
    "# device\n",
    "device = torch.device('cuda') if torch.cuda.is_available() else torch.device('cpu')\n",
    "print(f\"current device is {device}\")\n",
    "\n",
    "train_df, test_df, sample_submission, train_img_path, test_img_path = load_data()\n",
    "\n",
    "# dataset & dataloaders\n",
    "tokenizer = GPT2Tokenizer.from_pretrained('gpt2')\n",
    "tokenizer.add_special_tokens({'pad_token': '[PAD]'})\n",
    "# len(tokenizer)는 토크나이저가 인식하는 전체 토큰의 개수를 나타낸다.\n",
    "# 즉, 토크나이저 어휘집의 크기와 동일합니다. 이 숫자는 모델이 학습된 토크나이저에 따라 달라진다.\n",
    "# GPT2 토크나이저 어휘집 50258\n",
    "vocab_size = len(tokenizer)\n",
    "\n",
    "transform = transforms.Compose([ # 이미지 변환 함수들을 조합하여 하나의 변환 함수로 만들어주는 함수이다.\n",
    "    transforms.Resize((224, 224)),\n",
    "    transforms.ToTensor(),\n",
    "    transforms.Normalize(mean=[0.485, 0.456, 0.406], std=[0.229, 0.224, 0.225]),])\n",
    "\n",
    "train_dataset = VQADataset(train_df, tokenizer, transform, train_img_path, is_test=False)\n",
    "train_loader = DataLoader(train_dataset, batch_size=64, shuffle=True)\n",
    "\n",
    "# Model\n",
    "model = VQAModel(vocab_size).to(device)\n",
    "\n",
    "# Criterion and Optimizer\n",
    "criterion = nn.CrossEntropyLoss()\n",
    "optimizer = optim.AdamW(model.parameters(), lr=5e-5)\n",
    "\n",
    "# Training loop\n",
    "for epoch in range(1):\n",
    "    avg_loss = train(model, train_loader, optimizer, criterion)\n",
    "    print(f\"Epoch: {epoch+1}, Loss: {avg_loss:.4f}\") # fprint 처리 잘하기 "
   ]
  }
 ],
 "metadata": {
  "kernelspec": {
   "display_name": "QA",
   "language": "python",
   "name": "python3"
  },
  "language_info": {
   "codemirror_mode": {
    "name": "ipython",
    "version": 3
   },
   "file_extension": ".py",
   "mimetype": "text/x-python",
   "name": "python",
   "nbconvert_exporter": "python",
   "pygments_lexer": "ipython3",
   "version": "3.9.18"
  }
 },
 "nbformat": 4,
 "nbformat_minor": 2
}
